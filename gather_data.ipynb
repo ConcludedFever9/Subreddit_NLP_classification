{
 "cells": [
  {
   "cell_type": "markdown",
   "id": "eba3d0d4-7d2d-489d-b1bc-6f5d1d4754e8",
   "metadata": {},
   "source": [
    "## Import Libraries"
   ]
  },
  {
   "cell_type": "code",
   "execution_count": 3,
   "id": "2426ef65-5284-4229-8ecf-6f2923f4338a",
   "metadata": {},
   "outputs": [],
   "source": [
    "import praw\n",
    "from scraper import API_KEY, API_SECRET, USERNAME, PASSWORD\n",
    "import pandas as pd"
   ]
  },
  {
   "cell_type": "markdown",
   "id": "0730b2b8-83e4-475c-9103-864cf155d37d",
   "metadata": {},
   "source": [
    "## PRAW/Reddit API"
   ]
  },
  {
   "cell_type": "code",
   "execution_count": 4,
   "id": "c8700d6d-beda-4fbe-8556-bb8153dd897c",
   "metadata": {},
   "outputs": [],
   "source": [
    "reddit = praw.Reddit(\n",
    "    client_id=API_KEY,\n",
    "    client_secret=API_SECRET,\n",
    "    user_agent='YOUR_USER_AGENT',\n",
    "    username=USERNAME,\n",
    "    password=PASSWORD\n",
    ")"
   ]
  },
  {
   "cell_type": "code",
   "execution_count": 5,
   "id": "826fac5e-ea98-40a9-86e7-5dd11d8df8e4",
   "metadata": {},
   "outputs": [],
   "source": [
    "# Function to fetch subreddit posts by category\n",
    "# Thank you to Bryan Ortiz for this function\n",
    "\n",
    "def combine_data(posts, label):\n",
    "    data = []\n",
    "    for p in posts:\n",
    "        row = (p.created_utc, p.title, p.selftext)\n",
    "        data.append(row)\n",
    "        min_time = int(min(r[0] for r in data)) - 100_000\n",
    "    print(f'{label.upper()} POSTS :: N = {len(data)}')\n",
    "    return data"
   ]
  },
  {
   "cell_type": "markdown",
   "id": "cd0fa05f-0045-46c9-a41e-173e63b58ef5",
   "metadata": {},
   "source": [
    "## Collect Data From Subreddit"
   ]
  },
  {
   "cell_type": "code",
   "execution_count": 11,
   "id": "8cf02921-f5ab-4478-ac9d-b625424b0f53",
   "metadata": {},
   "outputs": [
    {
     "name": "stdout",
     "output_type": "stream",
     "text": [
      "NEW POSTS :: N = 958\n",
      "HOT POSTS :: N = 996\n",
      "TOP POSTS :: N = 999\n",
      "CONTROVERSIAL POSTS :: N = 995\n"
     ]
    }
   ],
   "source": [
    "subreddit = reddit.subreddit('existentialism')\n",
    "\n",
    "posts_new = subreddit.new(limit=1000)\n",
    "posts_hot = subreddit.hot(limit=1000)\n",
    "posts_top = subreddit.top(limit=1000)\n",
    "posts_con = subreddit.controversial(limit=1000)\n",
    "\n",
    "data_new = combine_data(posts_new, 'new')\n",
    "data_hot = combine_data(posts_hot, 'hot')\n",
    "data_top = combine_data(posts_top, 'top')\n",
    "data_con = combine_data(posts_con, 'controversial')"
   ]
  },
  {
   "cell_type": "code",
   "execution_count": 12,
   "id": "2b389571-b062-447c-80ba-e6f69041c930",
   "metadata": {},
   "outputs": [
    {
     "data": {
      "text/html": [
       "<div>\n",
       "<style scoped>\n",
       "    .dataframe tbody tr th:only-of-type {\n",
       "        vertical-align: middle;\n",
       "    }\n",
       "\n",
       "    .dataframe tbody tr th {\n",
       "        vertical-align: top;\n",
       "    }\n",
       "\n",
       "    .dataframe thead th {\n",
       "        text-align: right;\n",
       "    }\n",
       "</style>\n",
       "<table border=\"1\" class=\"dataframe\">\n",
       "  <thead>\n",
       "    <tr style=\"text-align: right;\">\n",
       "      <th></th>\n",
       "      <th>time</th>\n",
       "      <th>title</th>\n",
       "      <th>text</th>\n",
       "      <th>type</th>\n",
       "    </tr>\n",
       "  </thead>\n",
       "  <tbody>\n",
       "    <tr>\n",
       "      <th>0</th>\n",
       "      <td>1.704666e+09</td>\n",
       "      <td>Subjectivity is the Starting Point</td>\n",
       "      <td>*The word subjectivism has two meanings, and o...</td>\n",
       "      <td>1</td>\n",
       "    </tr>\n",
       "    <tr>\n",
       "      <th>1</th>\n",
       "      <td>1.704665e+09</td>\n",
       "      <td>Is there a possibility of an afterlife?</td>\n",
       "      <td>Title</td>\n",
       "      <td>1</td>\n",
       "    </tr>\n",
       "    <tr>\n",
       "      <th>2</th>\n",
       "      <td>1.704575e+09</td>\n",
       "      <td>The meaning of existence</td>\n",
       "      <td>\\n\\nI had a discussion with friend who is an ...</td>\n",
       "      <td>1</td>\n",
       "    </tr>\n",
       "    <tr>\n",
       "      <th>3</th>\n",
       "      <td>1.704481e+09</td>\n",
       "      <td>the mind and the notion of the self</td>\n",
       "      <td>Quite a while ago i came up with this Idea abo...</td>\n",
       "      <td>1</td>\n",
       "    </tr>\n",
       "    <tr>\n",
       "      <th>4</th>\n",
       "      <td>1.704472e+09</td>\n",
       "      <td>I made an ambient album based on my initial in...</td>\n",
       "      <td></td>\n",
       "      <td>1</td>\n",
       "    </tr>\n",
       "  </tbody>\n",
       "</table>\n",
       "</div>"
      ],
      "text/plain": [
       "           time                                              title  \\\n",
       "0  1.704666e+09                 Subjectivity is the Starting Point   \n",
       "1  1.704665e+09            Is there a possibility of an afterlife?   \n",
       "2  1.704575e+09                           The meaning of existence   \n",
       "3  1.704481e+09                the mind and the notion of the self   \n",
       "4  1.704472e+09  I made an ambient album based on my initial in...   \n",
       "\n",
       "                                                text  type  \n",
       "0  *The word subjectivism has two meanings, and o...     1  \n",
       "1                                              Title     1  \n",
       "2   \\n\\nI had a discussion with friend who is an ...     1  \n",
       "3  Quite a while ago i came up with this Idea abo...     1  \n",
       "4                                                        1  "
      ]
     },
     "execution_count": 12,
     "metadata": {},
     "output_type": "execute_result"
    }
   ],
   "source": [
    "df1 = pd.DataFrame(data_new + data_hot + data_top + data_con, columns=['time', 'title', 'text'])\n",
    "df1['type'] = 1 # For merging and classifier later\n",
    "df1.to_csv('./data/existentialism.csv', index=False)\n",
    "df1.head()"
   ]
  },
  {
   "cell_type": "code",
   "execution_count": 9,
   "id": "2b93cf1f-17c3-4077-a59e-27a12b15bf04",
   "metadata": {},
   "outputs": [
    {
     "name": "stdout",
     "output_type": "stream",
     "text": [
      "NEW POSTS :: N = 983\n",
      "HOT POSTS :: N = 998\n",
      "TOP POSTS :: N = 998\n",
      "CONTROVERSIAL POSTS :: N = 997\n"
     ]
    }
   ],
   "source": [
    "subreddit = reddit.subreddit('nihilism')\n",
    "\n",
    "posts_new = subreddit.new(limit=1000)\n",
    "posts_hot = subreddit.hot(limit=1000)\n",
    "posts_top = subreddit.top(limit=1000)\n",
    "posts_con = subreddit.controversial(limit=1000)\n",
    "\n",
    "data_new = combine_data(posts_new, 'new')\n",
    "data_hot = combine_data(posts_hot, 'hot')\n",
    "data_top = combine_data(posts_top, 'top')\n",
    "data_con = combine_data(posts_con, 'controversial')"
   ]
  },
  {
   "cell_type": "code",
   "execution_count": 10,
   "id": "7d0023ed-e2c6-4fe0-bd76-9cf23f84d5ac",
   "metadata": {},
   "outputs": [
    {
     "data": {
      "text/html": [
       "<div>\n",
       "<style scoped>\n",
       "    .dataframe tbody tr th:only-of-type {\n",
       "        vertical-align: middle;\n",
       "    }\n",
       "\n",
       "    .dataframe tbody tr th {\n",
       "        vertical-align: top;\n",
       "    }\n",
       "\n",
       "    .dataframe thead th {\n",
       "        text-align: right;\n",
       "    }\n",
       "</style>\n",
       "<table border=\"1\" class=\"dataframe\">\n",
       "  <thead>\n",
       "    <tr style=\"text-align: right;\">\n",
       "      <th></th>\n",
       "      <th>time</th>\n",
       "      <th>title</th>\n",
       "      <th>text</th>\n",
       "      <th>type</th>\n",
       "    </tr>\n",
       "  </thead>\n",
       "  <tbody>\n",
       "    <tr>\n",
       "      <th>0</th>\n",
       "      <td>1.704666e+09</td>\n",
       "      <td>Cure to nihilism</td>\n",
       "      <td>I know it's a big claim, trust me and read.\\n\\...</td>\n",
       "      <td>0</td>\n",
       "    </tr>\n",
       "    <tr>\n",
       "      <th>1</th>\n",
       "      <td>1.704669e+09</td>\n",
       "      <td>Is the general idea to embrace nihilism until ...</td>\n",
       "      <td>I understand the idea of nihilism, but I don't...</td>\n",
       "      <td>0</td>\n",
       "    </tr>\n",
       "    <tr>\n",
       "      <th>2</th>\n",
       "      <td>1.704665e+09</td>\n",
       "      <td>Is there a possibility of an afterlife?</td>\n",
       "      <td></td>\n",
       "      <td>0</td>\n",
       "    </tr>\n",
       "    <tr>\n",
       "      <th>3</th>\n",
       "      <td>1.704644e+09</td>\n",
       "      <td>The reality is you only get 20% of your life, ...</td>\n",
       "      <td>When I turned 30, a stark reality laid before ...</td>\n",
       "      <td>0</td>\n",
       "    </tr>\n",
       "    <tr>\n",
       "      <th>4</th>\n",
       "      <td>1.704580e+09</td>\n",
       "      <td>why are some minds more eager for meaning? or ...</td>\n",
       "      <td>after all, those who ease their need for meani...</td>\n",
       "      <td>0</td>\n",
       "    </tr>\n",
       "  </tbody>\n",
       "</table>\n",
       "</div>"
      ],
      "text/plain": [
       "           time                                              title  \\\n",
       "0  1.704666e+09                                   Cure to nihilism   \n",
       "1  1.704669e+09  Is the general idea to embrace nihilism until ...   \n",
       "2  1.704665e+09            Is there a possibility of an afterlife?   \n",
       "3  1.704644e+09  The reality is you only get 20% of your life, ...   \n",
       "4  1.704580e+09  why are some minds more eager for meaning? or ...   \n",
       "\n",
       "                                                text  type  \n",
       "0  I know it's a big claim, trust me and read.\\n\\...     0  \n",
       "1  I understand the idea of nihilism, but I don't...     0  \n",
       "2                                                        0  \n",
       "3  When I turned 30, a stark reality laid before ...     0  \n",
       "4  after all, those who ease their need for meani...     0  "
      ]
     },
     "execution_count": 10,
     "metadata": {},
     "output_type": "execute_result"
    }
   ],
   "source": [
    "df2 = pd.DataFrame(data_new + data_hot + data_top + data_con, columns=['time', 'title', 'text'])\n",
    "df2['type'] = 0 # For merging and classifier later\n",
    "df2.to_csv('./data/nihilism.csv', index=False)\n",
    "df2.head()"
   ]
  },
  {
   "cell_type": "code",
   "execution_count": 14,
   "id": "de42eb5f-b6f7-42a2-a283-04088da9dbe8",
   "metadata": {},
   "outputs": [
    {
     "data": {
      "text/html": [
       "<div>\n",
       "<style scoped>\n",
       "    .dataframe tbody tr th:only-of-type {\n",
       "        vertical-align: middle;\n",
       "    }\n",
       "\n",
       "    .dataframe tbody tr th {\n",
       "        vertical-align: top;\n",
       "    }\n",
       "\n",
       "    .dataframe thead th {\n",
       "        text-align: right;\n",
       "    }\n",
       "</style>\n",
       "<table border=\"1\" class=\"dataframe\">\n",
       "  <thead>\n",
       "    <tr style=\"text-align: right;\">\n",
       "      <th></th>\n",
       "      <th>time</th>\n",
       "      <th>title</th>\n",
       "      <th>text</th>\n",
       "      <th>type</th>\n",
       "    </tr>\n",
       "  </thead>\n",
       "  <tbody>\n",
       "    <tr>\n",
       "      <th>0</th>\n",
       "      <td>1.704666e+09</td>\n",
       "      <td>Subjectivity is the Starting Point</td>\n",
       "      <td>*The word subjectivism has two meanings, and o...</td>\n",
       "      <td>1</td>\n",
       "    </tr>\n",
       "    <tr>\n",
       "      <th>1</th>\n",
       "      <td>1.704665e+09</td>\n",
       "      <td>Is there a possibility of an afterlife?</td>\n",
       "      <td>Title</td>\n",
       "      <td>1</td>\n",
       "    </tr>\n",
       "    <tr>\n",
       "      <th>2</th>\n",
       "      <td>1.704575e+09</td>\n",
       "      <td>The meaning of existence</td>\n",
       "      <td>\\n\\nI had a discussion with friend who is an ...</td>\n",
       "      <td>1</td>\n",
       "    </tr>\n",
       "    <tr>\n",
       "      <th>3</th>\n",
       "      <td>1.704481e+09</td>\n",
       "      <td>the mind and the notion of the self</td>\n",
       "      <td>Quite a while ago i came up with this Idea abo...</td>\n",
       "      <td>1</td>\n",
       "    </tr>\n",
       "    <tr>\n",
       "      <th>4</th>\n",
       "      <td>1.704472e+09</td>\n",
       "      <td>I made an ambient album based on my initial in...</td>\n",
       "      <td></td>\n",
       "      <td>1</td>\n",
       "    </tr>\n",
       "  </tbody>\n",
       "</table>\n",
       "</div>"
      ],
      "text/plain": [
       "           time                                              title  \\\n",
       "0  1.704666e+09                 Subjectivity is the Starting Point   \n",
       "1  1.704665e+09            Is there a possibility of an afterlife?   \n",
       "2  1.704575e+09                           The meaning of existence   \n",
       "3  1.704481e+09                the mind and the notion of the self   \n",
       "4  1.704472e+09  I made an ambient album based on my initial in...   \n",
       "\n",
       "                                                text  type  \n",
       "0  *The word subjectivism has two meanings, and o...     1  \n",
       "1                                              Title     1  \n",
       "2   \\n\\nI had a discussion with friend who is an ...     1  \n",
       "3  Quite a while ago i came up with this Idea abo...     1  \n",
       "4                                                        1  "
      ]
     },
     "execution_count": 14,
     "metadata": {},
     "output_type": "execute_result"
    }
   ],
   "source": [
    "# Concatenate the two dataframes on the classifier, type\n",
    "df = pd.concat([df1, df2], ignore_index=True)\n",
    "df.to_csv('./data/total.csv', index=False)\n",
    "df.head()"
   ]
  },
  {
   "cell_type": "code",
   "execution_count": null,
   "id": "f49b13b7-6dfc-4fed-88a6-1c59192aab1c",
   "metadata": {},
   "outputs": [],
   "source": []
  }
 ],
 "metadata": {
  "kernelspec": {
   "display_name": "Python 3",
   "language": "python",
   "name": "python3"
  },
  "language_info": {
   "codemirror_mode": {
    "name": "ipython",
    "version": 3
   },
   "file_extension": ".py",
   "mimetype": "text/x-python",
   "name": "python",
   "nbconvert_exporter": "python",
   "pygments_lexer": "ipython3",
   "version": "3.8.8"
  }
 },
 "nbformat": 4,
 "nbformat_minor": 5
}
