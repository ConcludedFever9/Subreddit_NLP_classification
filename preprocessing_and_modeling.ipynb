{
 "cells": [
  {
   "cell_type": "markdown",
   "id": "1a779ed9-7073-4660-bf59-66cd5efb0d30",
   "metadata": {},
   "source": [
    "### Imports"
   ]
  },
  {
   "cell_type": "code",
   "execution_count": 64,
   "id": "320b5831-b370-44b6-bf9f-626043ca2a55",
   "metadata": {},
   "outputs": [],
   "source": [
    "import pandas as pd\n",
    "import numpy as np\n",
    "import matplotlib.pyplot as plt\n",
    "import seaborn as sns\n",
    "from sklearn.linear_model import LogisticRegression\n",
    "from sklearn.neighbors import KNeighborsClassifier\n",
    "from sklearn.model_selection import train_test_split, GridSearchCV\n",
    "from sklearn.pipeline import Pipeline\n",
    "from sklearn.metrics import ConfusionMatrixDisplay, RocCurveDisplay, accuracy_score, confusion_matrix\n",
    "from sklearn.feature_extraction.text import CountVectorizer, TfidfVectorizer\n",
    "from sklearn.naive_bayes import MultinomialNB\n",
    "from sklearn.metrics import classification_report\n",
    "from textblob import TextBlob\n",
    "from sklearn.preprocessing import StandardScaler"
   ]
  },
  {
   "cell_type": "markdown",
   "id": "4cab5665-8fbb-4721-b842-830553f60109",
   "metadata": {},
   "source": [
    "___\n",
    "### EDA and preprocessing"
   ]
  },
  {
   "cell_type": "code",
   "execution_count": 65,
   "id": "4bcfffdf-95f3-4816-a5ae-3ab6b42e57cc",
   "metadata": {},
   "outputs": [],
   "source": [
    "# Read in our data\n",
    "df1 = pd.read_csv('../data/existentialism.csv')\n",
    "df2 = pd.read_csv('../data/nihilism.csv')\n",
    "df = pd.read_csv('../data/total.csv')"
   ]
  },
  {
   "cell_type": "code",
   "execution_count": 66,
   "id": "fe650f66-6a9a-4f94-bf61-36b6f24abb8d",
   "metadata": {},
   "outputs": [
    {
     "data": {
      "text/html": [
       "<div>\n",
       "<style scoped>\n",
       "    .dataframe tbody tr th:only-of-type {\n",
       "        vertical-align: middle;\n",
       "    }\n",
       "\n",
       "    .dataframe tbody tr th {\n",
       "        vertical-align: top;\n",
       "    }\n",
       "\n",
       "    .dataframe thead th {\n",
       "        text-align: right;\n",
       "    }\n",
       "</style>\n",
       "<table border=\"1\" class=\"dataframe\">\n",
       "  <thead>\n",
       "    <tr style=\"text-align: right;\">\n",
       "      <th></th>\n",
       "      <th>time</th>\n",
       "      <th>title</th>\n",
       "      <th>text</th>\n",
       "      <th>type</th>\n",
       "      <th>char_length</th>\n",
       "      <th>word_length</th>\n",
       "    </tr>\n",
       "  </thead>\n",
       "  <tbody>\n",
       "    <tr>\n",
       "      <th>0</th>\n",
       "      <td>1.704666e+09</td>\n",
       "      <td>Subjectivity is the Starting Point</td>\n",
       "      <td>*The word subjectivism has two meanings, and o...</td>\n",
       "      <td>1</td>\n",
       "      <td>1441</td>\n",
       "      <td>229</td>\n",
       "    </tr>\n",
       "    <tr>\n",
       "      <th>1</th>\n",
       "      <td>1.704665e+09</td>\n",
       "      <td>Is there a possibility of an afterlife?</td>\n",
       "      <td>Title</td>\n",
       "      <td>1</td>\n",
       "      <td>5</td>\n",
       "      <td>1</td>\n",
       "    </tr>\n",
       "    <tr>\n",
       "      <th>2</th>\n",
       "      <td>1.704575e+09</td>\n",
       "      <td>The meaning of existence</td>\n",
       "      <td>\\n\\nI had a discussion with friend who is an ...</td>\n",
       "      <td>1</td>\n",
       "      <td>1683</td>\n",
       "      <td>307</td>\n",
       "    </tr>\n",
       "    <tr>\n",
       "      <th>3</th>\n",
       "      <td>1.704481e+09</td>\n",
       "      <td>the mind and the notion of the self</td>\n",
       "      <td>Quite a while ago i came up with this Idea abo...</td>\n",
       "      <td>1</td>\n",
       "      <td>1510</td>\n",
       "      <td>238</td>\n",
       "    </tr>\n",
       "    <tr>\n",
       "      <th>4</th>\n",
       "      <td>1.704472e+09</td>\n",
       "      <td>I made an ambient album based on my initial in...</td>\n",
       "      <td>NaN</td>\n",
       "      <td>1</td>\n",
       "      <td>3</td>\n",
       "      <td>1</td>\n",
       "    </tr>\n",
       "  </tbody>\n",
       "</table>\n",
       "</div>"
      ],
      "text/plain": [
       "           time                                              title  \\\n",
       "0  1.704666e+09                 Subjectivity is the Starting Point   \n",
       "1  1.704665e+09            Is there a possibility of an afterlife?   \n",
       "2  1.704575e+09                           The meaning of existence   \n",
       "3  1.704481e+09                the mind and the notion of the self   \n",
       "4  1.704472e+09  I made an ambient album based on my initial in...   \n",
       "\n",
       "                                                text  type  char_length  \\\n",
       "0  *The word subjectivism has two meanings, and o...     1         1441   \n",
       "1                                              Title     1            5   \n",
       "2   \\n\\nI had a discussion with friend who is an ...     1         1683   \n",
       "3  Quite a while ago i came up with this Idea abo...     1         1510   \n",
       "4                                                NaN     1            3   \n",
       "\n",
       "   word_length  \n",
       "0          229  \n",
       "1            1  \n",
       "2          307  \n",
       "3          238  \n",
       "4            1  "
      ]
     },
     "execution_count": 66,
     "metadata": {},
     "output_type": "execute_result"
    }
   ],
   "source": [
    "# Before we start fitting models, we will first explore our data\n",
    "# First, we will add columns which track how many words and characters there are in a post\n",
    "\n",
    "df['char_length'] = df['text'].apply(lambda x: len(str(x)))\n",
    "df['word_length'] = df['text'].apply(lambda x: len(str(x).split()))\n",
    "df.head()"
   ]
  },
  {
   "cell_type": "code",
   "execution_count": 67,
   "id": "d590f47f-0f88-4da3-890d-c6692980d5c3",
   "metadata": {},
   "outputs": [
    {
     "name": "stdout",
     "output_type": "stream",
     "text": [
      "3       2993\n",
      "50        27\n",
      "1         22\n",
      "49        21\n",
      "48        20\n",
      "        ... \n",
      "278        1\n",
      "290        1\n",
      "306        1\n",
      "346        1\n",
      "2039       1\n",
      "Name: char_length, Length: 1498, dtype: int64\n",
      "1       3090\n",
      "2         66\n",
      "10        56\n",
      "8         55\n",
      "5         54\n",
      "        ... \n",
      "629        1\n",
      "725        1\n",
      "733        1\n",
      "829        1\n",
      "1839       1\n",
      "Name: word_length, Length: 567, dtype: int64\n"
     ]
    }
   ],
   "source": [
    "# We see a lot of empty values, implying the text post is blank\n",
    "# This probably corresponds to posts with a title and a picture so we will combine text and title\n",
    "\n",
    "print(df['char_length'].value_counts())\n",
    "print(df['word_length'].value_counts())"
   ]
  },
  {
   "cell_type": "code",
   "execution_count": 68,
   "id": "4ec5c5ca-0786-4237-8820-971afaab718d",
   "metadata": {},
   "outputs": [
    {
     "data": {
      "text/html": [
       "<div>\n",
       "<style scoped>\n",
       "    .dataframe tbody tr th:only-of-type {\n",
       "        vertical-align: middle;\n",
       "    }\n",
       "\n",
       "    .dataframe tbody tr th {\n",
       "        vertical-align: top;\n",
       "    }\n",
       "\n",
       "    .dataframe thead th {\n",
       "        text-align: right;\n",
       "    }\n",
       "</style>\n",
       "<table border=\"1\" class=\"dataframe\">\n",
       "  <thead>\n",
       "    <tr style=\"text-align: right;\">\n",
       "      <th></th>\n",
       "      <th>time</th>\n",
       "      <th>title</th>\n",
       "      <th>text</th>\n",
       "      <th>type</th>\n",
       "      <th>char_length</th>\n",
       "      <th>word_length</th>\n",
       "      <th>total</th>\n",
       "      <th>total_char</th>\n",
       "      <th>total_word</th>\n",
       "    </tr>\n",
       "  </thead>\n",
       "  <tbody>\n",
       "    <tr>\n",
       "      <th>0</th>\n",
       "      <td>1.704666e+09</td>\n",
       "      <td>Subjectivity is the Starting Point</td>\n",
       "      <td>*The word subjectivism has two meanings, and o...</td>\n",
       "      <td>1</td>\n",
       "      <td>1441</td>\n",
       "      <td>229</td>\n",
       "      <td>Subjectivity is the Starting Point *The word s...</td>\n",
       "      <td>1476</td>\n",
       "      <td>234</td>\n",
       "    </tr>\n",
       "    <tr>\n",
       "      <th>1</th>\n",
       "      <td>1.704665e+09</td>\n",
       "      <td>Is there a possibility of an afterlife?</td>\n",
       "      <td>Title</td>\n",
       "      <td>1</td>\n",
       "      <td>5</td>\n",
       "      <td>1</td>\n",
       "      <td>Is there a possibility of an afterlife? Title</td>\n",
       "      <td>45</td>\n",
       "      <td>8</td>\n",
       "    </tr>\n",
       "    <tr>\n",
       "      <th>2</th>\n",
       "      <td>1.704575e+09</td>\n",
       "      <td>The meaning of existence</td>\n",
       "      <td>\\n\\nI had a discussion with friend who is an ...</td>\n",
       "      <td>1</td>\n",
       "      <td>1683</td>\n",
       "      <td>307</td>\n",
       "      <td>The meaning of existence  \\n\\nI had a discussi...</td>\n",
       "      <td>1708</td>\n",
       "      <td>311</td>\n",
       "    </tr>\n",
       "    <tr>\n",
       "      <th>3</th>\n",
       "      <td>1.704481e+09</td>\n",
       "      <td>the mind and the notion of the self</td>\n",
       "      <td>Quite a while ago i came up with this Idea abo...</td>\n",
       "      <td>1</td>\n",
       "      <td>1510</td>\n",
       "      <td>238</td>\n",
       "      <td>the mind and the notion of the self Quite a wh...</td>\n",
       "      <td>1546</td>\n",
       "      <td>246</td>\n",
       "    </tr>\n",
       "    <tr>\n",
       "      <th>4</th>\n",
       "      <td>1.704472e+09</td>\n",
       "      <td>I made an ambient album based on my initial in...</td>\n",
       "      <td>NaN</td>\n",
       "      <td>1</td>\n",
       "      <td>3</td>\n",
       "      <td>1</td>\n",
       "      <td>NaN</td>\n",
       "      <td>3</td>\n",
       "      <td>1</td>\n",
       "    </tr>\n",
       "  </tbody>\n",
       "</table>\n",
       "</div>"
      ],
      "text/plain": [
       "           time                                              title  \\\n",
       "0  1.704666e+09                 Subjectivity is the Starting Point   \n",
       "1  1.704665e+09            Is there a possibility of an afterlife?   \n",
       "2  1.704575e+09                           The meaning of existence   \n",
       "3  1.704481e+09                the mind and the notion of the self   \n",
       "4  1.704472e+09  I made an ambient album based on my initial in...   \n",
       "\n",
       "                                                text  type  char_length  \\\n",
       "0  *The word subjectivism has two meanings, and o...     1         1441   \n",
       "1                                              Title     1            5   \n",
       "2   \\n\\nI had a discussion with friend who is an ...     1         1683   \n",
       "3  Quite a while ago i came up with this Idea abo...     1         1510   \n",
       "4                                                NaN     1            3   \n",
       "\n",
       "   word_length                                              total  total_char  \\\n",
       "0          229  Subjectivity is the Starting Point *The word s...        1476   \n",
       "1            1      Is there a possibility of an afterlife? Title          45   \n",
       "2          307  The meaning of existence  \\n\\nI had a discussi...        1708   \n",
       "3          238  the mind and the notion of the self Quite a wh...        1546   \n",
       "4            1                                                NaN           3   \n",
       "\n",
       "   total_word  \n",
       "0         234  \n",
       "1           8  \n",
       "2         311  \n",
       "3         246  \n",
       "4           1  "
      ]
     },
     "execution_count": 68,
     "metadata": {},
     "output_type": "execute_result"
    }
   ],
   "source": [
    "# Combine those two columns\n",
    "df['total'] = df['title'] + ' ' + df['text']\n",
    "\n",
    "# Make char_length and word_length for total \n",
    "df['total_char'] = df['total'].apply(lambda x: len(str(x)))\n",
    "df['total_word'] = df['total'].apply(lambda x: len(str(x).split()))\n",
    "\n",
    "df.head()"
   ]
  },
  {
   "cell_type": "code",
   "execution_count": 69,
   "id": "cbf9f384-b39e-4386-a1ea-f79af8f81004",
   "metadata": {},
   "outputs": [
    {
     "name": "stdout",
     "output_type": "stream",
     "text": [
      "3       2995\n",
      "411       17\n",
      "119       16\n",
      "155       15\n",
      "69        15\n",
      "        ... \n",
      "2224       1\n",
      "2248       1\n",
      "1010       1\n",
      "4307       1\n",
      "2599       1\n",
      "Name: total_char, Length: 1529, dtype: int64\n",
      "1       2993\n",
      "18        62\n",
      "17        53\n",
      "11        51\n",
      "30        47\n",
      "        ... \n",
      "912        1\n",
      "832        1\n",
      "271        1\n",
      "766        1\n",
      "1827       1\n",
      "Name: total_word, Length: 574, dtype: int64\n"
     ]
    }
   ],
   "source": [
    "# Value counts, looks good\n",
    "print(df['total_char'].value_counts())\n",
    "print(df['total_word'].value_counts())"
   ]
  },
  {
   "cell_type": "code",
   "execution_count": 70,
   "id": "d189330d-2247-4a76-bf0e-38a5ac174fc3",
   "metadata": {},
   "outputs": [
    {
     "data": {
      "image/png": "[encoded data removed]",
      "text/plain": [
       "<Figure size 720x432 with 1 Axes>"
      ]
     },
     "metadata": {},
     "output_type": "display_data"
    }
   ],
   "source": [
    "# It would help to see a distribution of char_length and word_length by type\n",
    "sns.set(style=\"whitegrid\")\n",
    "\n",
    "plt.figure(figsize=(10, 6))\n",
    "ax = sns.histplot(data=df, x='total_word', hue='type', bins=250, alpha=0.7, multiple=\"stack\")\n",
    "\n",
    "ax.set_xlim(0, 1000) # Only show values on the high relative frequency end\n",
    "\n",
    "plt.xlabel('Word Count')\n",
    "plt.ylabel('Frequency')\n",
    "plt.title('Histogram of Word Count by Reddit Type')\n",
    "\n",
    "ax.legend(title='Reddit Type', labels=['Existentialism', 'Nihilism'])\n",
    "plt.savefig('../images/wordcount.png')"
   ]
  },
  {
   "cell_type": "code",
   "execution_count": 71,
   "id": "c81736e4-a1e4-4b5c-91ef-e3c2b1195ebd",
   "metadata": {},
   "outputs": [
    {
     "data": {
      "image/png": "[encoded data removed]",
      "text/plain": [
       "<Figure size 720x432 with 1 Axes>"
      ]
     },
     "metadata": {},
     "output_type": "display_data"
    }
   ],
   "source": [
    "sns.set(style=\"whitegrid\")\n",
    "\n",
    "plt.figure(figsize=(10, 6))\n",
    "ax = sns.histplot(data=df, x='total_char', hue='type', bins=250, alpha=0.7, multiple=\"stack\")\n",
    "\n",
    "ax.set_xlim(0, 5000) # Only show values on the high relative frequency end\n",
    "\n",
    "plt.xlabel('Character Length')\n",
    "plt.ylabel('Frequency')\n",
    "plt.title('Histogram of Character Length by Reddit Type')\n",
    "\n",
    "ax.legend(title='Reddit Type', labels=['Existentialism', 'Nihilism'])\n",
    "plt.savefig('../images/charlength.png')"
   ]
  },
  {
   "cell_type": "code",
   "execution_count": 72,
   "id": "418ce3db-436c-454e-890b-44fe8187f334",
   "metadata": {},
   "outputs": [
    {
     "data": {
      "image/png": "[encoded data removed]",
      "text/plain": [
       "<Figure size 720x432 with 1 Axes>"
      ]
     },
     "metadata": {},
     "output_type": "display_data"
    }
   ],
   "source": [
    "# Next we will look at the 15 most common words for each of the subreddits \n",
    "# First the existentialist subreddit\n",
    "df1['combined'] = df1['title'].fillna('') + ' ' + df1['text'].fillna('')\n",
    "\n",
    "vectorizer = CountVectorizer(stop_words='english')\n",
    "X = vectorizer.fit_transform(df1['combined'].astype(str))\n",
    "\n",
    "word_counts_df = pd.DataFrame({'Word': vectorizer.get_feature_names_out(), 'Count': X.sum(axis=0).A1})\n",
    "\n",
    "word_counts_df = word_counts_df.sort_values(by='Count', ascending=False)\n",
    "\n",
    "plt.figure(figsize=(10, 6))\n",
    "plt.bar(word_counts_df['Word'][:15], word_counts_df['Count'][:15], color='skyblue')\n",
    "plt.xlabel('Word')\n",
    "plt.ylabel('Count')\n",
    "plt.title('Top 15 Words (Existentialist)')\n",
    "plt.xticks(rotation=45, ha='right')\n",
    "plt.tight_layout()\n",
    "\n",
    "plt.savefig('../images/top_15_existentialist.png')"
   ]
  },
  {
   "cell_type": "code",
   "execution_count": 73,
   "id": "a8b2d491-dd22-4e8a-9b9c-e2ddb8fe45ff",
   "metadata": {},
   "outputs": [
    {
     "data": {
      "image/png": "[encoded data removed]",
      "text/plain": [
       "<Figure size 720x432 with 1 Axes>"
      ]
     },
     "metadata": {},
     "output_type": "display_data"
    }
   ],
   "source": [
    "# Next the nihilist subreddit\n",
    "df2['combined'] = df2['title'].fillna('') + ' ' + df2['text'].fillna('')\n",
    "\n",
    "vectorizer = CountVectorizer(stop_words='english')\n",
    "X = vectorizer.fit_transform(df2['combined'].astype(str))\n",
    "\n",
    "word_counts_df = pd.DataFrame({'Word': vectorizer.get_feature_names_out(), 'Count': X.sum(axis=0).A1})\n",
    "\n",
    "word_counts_df = word_counts_df.sort_values(by='Count', ascending=False)\n",
    "\n",
    "plt.figure(figsize=(10, 6))\n",
    "plt.bar(word_counts_df['Word'][:15], word_counts_df['Count'][:15], color='skyblue')\n",
    "plt.xlabel('Word')\n",
    "plt.ylabel('Count')\n",
    "plt.title('Top 15 words (Nihilist)')\n",
    "plt.xticks(rotation=45, ha='right')\n",
    "plt.tight_layout()\n",
    "\n",
    "plt.savefig('../images/top_15_nihilist.png')"
   ]
  },
  {
   "cell_type": "code",
   "execution_count": 74,
   "id": "ea5ed753-b5c2-47bd-b738-76816171a668",
   "metadata": {},
   "outputs": [
    {
     "data": {
      "image/png": "[encoded data removed]",
      "text/plain": [
       "<Figure size 720x432 with 1 Axes>"
      ]
     },
     "metadata": {},
     "output_type": "display_data"
    }
   ],
   "source": [
    "# Now lets get the top 15 most common bigrams for each\n",
    "# First existentialism\n",
    "vectorizer = CountVectorizer(ngram_range=(2, 2), stop_words='english')\n",
    "X = vectorizer.fit_transform(df1['combined'].astype(str))\n",
    "\n",
    "word_counts_df = pd.DataFrame({'Word': vectorizer.get_feature_names_out(), 'Count': X.sum(axis=0).A1})\n",
    "\n",
    "word_counts_df = word_counts_df.sort_values(by='Count', ascending=False)\n",
    "\n",
    "plt.figure(figsize=(10, 6))\n",
    "plt.bar(word_counts_df['Word'][:15], word_counts_df['Count'][:15], color='skyblue')\n",
    "plt.xlabel('Word')\n",
    "plt.ylabel('Count')\n",
    "plt.title('Top 15 bigrams (Existentialist)')\n",
    "plt.xticks(rotation=45, ha='right')\n",
    "plt.tight_layout()\n",
    "\n",
    "plt.savefig('../images/top_15_existentialist2.png')"
   ]
  },
  {
   "cell_type": "code",
   "execution_count": 75,
   "id": "02d2535f-46c7-4e21-aa42-2b7e26c9253b",
   "metadata": {},
   "outputs": [
    {
     "data": {
      "image/png": "[encoded data removed]",
      "text/plain": [
       "<Figure size 720x432 with 1 Axes>"
      ]
     },
     "metadata": {},
     "output_type": "display_data"
    }
   ],
   "source": [
    "# Bigrams for nihilist subreddit\n",
    "vectorizer = CountVectorizer(ngram_range=(2, 2), stop_words='english')\n",
    "X = vectorizer.fit_transform(df2['combined'].astype(str))\n",
    "\n",
    "word_counts_df = pd.DataFrame({'Word': vectorizer.get_feature_names_out(), 'Count': X.sum(axis=0).A1})\n",
    "\n",
    "word_counts_df = word_counts_df.sort_values(by='Count', ascending=False)\n",
    "\n",
    "plt.figure(figsize=(10, 6))\n",
    "plt.bar(word_counts_df['Word'][:15], word_counts_df['Count'][:15], color='skyblue')\n",
    "plt.xlabel('Word')\n",
    "plt.ylabel('Count')\n",
    "plt.title('Top 15 bigrams (Nihilist)')\n",
    "plt.xticks(rotation=45, ha='right')\n",
    "plt.tight_layout()\n",
    "\n",
    "plt.savefig('../images/top_15_nihilist2.png')"
   ]
  },
  {
   "cell_type": "markdown",
   "id": "d069b87d-f28d-4907-98e5-987f506f1c02",
   "metadata": {},
   "source": [
    "___\n",
    "### Baseline Accuracy"
   ]
  },
  {
   "cell_type": "code",
   "execution_count": 76,
   "id": "2028fd05-880f-43a9-8317-54fccfa64497",
   "metadata": {},
   "outputs": [
    {
     "data": {
      "text/plain": [
       "0    0.501767\n",
       "1    0.498233\n",
       "Name: type, dtype: float64"
      ]
     },
     "execution_count": 76,
     "metadata": {},
     "output_type": "execute_result"
    }
   ],
   "source": [
    "# Before we start modeling, we should look at our baseline accuracy\n",
    "# Baseline accuracy is bascally 50%\n",
    "\n",
    "df['type'].value_counts(normalize = True)"
   ]
  },
  {
   "cell_type": "markdown",
   "id": "9535e917-8b32-4348-87d4-6c9ae335a183",
   "metadata": {},
   "source": [
    "___\n",
    "### Count Vectorizer model"
   ]
  },
  {
   "cell_type": "code",
   "execution_count": 77,
   "id": "27769348-a8de-4406-a000-ab103a5e79e2",
   "metadata": {},
   "outputs": [
    {
     "data": {
      "text/html": [
       "<div>\n",
       "<style scoped>\n",
       "    .dataframe tbody tr th:only-of-type {\n",
       "        vertical-align: middle;\n",
       "    }\n",
       "\n",
       "    .dataframe tbody tr th {\n",
       "        vertical-align: top;\n",
       "    }\n",
       "\n",
       "    .dataframe thead th {\n",
       "        text-align: right;\n",
       "    }\n",
       "</style>\n",
       "<table border=\"1\" class=\"dataframe\">\n",
       "  <thead>\n",
       "    <tr style=\"text-align: right;\">\n",
       "      <th></th>\n",
       "      <th>time</th>\n",
       "      <th>title</th>\n",
       "      <th>text</th>\n",
       "      <th>type</th>\n",
       "      <th>char_length</th>\n",
       "      <th>word_length</th>\n",
       "      <th>total</th>\n",
       "      <th>total_char</th>\n",
       "      <th>total_word</th>\n",
       "    </tr>\n",
       "  </thead>\n",
       "  <tbody>\n",
       "    <tr>\n",
       "      <th>0</th>\n",
       "      <td>1.704666e+09</td>\n",
       "      <td>Subjectivity is the Starting Point</td>\n",
       "      <td>*The word subjectivism has two meanings, and o...</td>\n",
       "      <td>1</td>\n",
       "      <td>1441</td>\n",
       "      <td>229</td>\n",
       "      <td>Subjectivity is the Starting Point *The word s...</td>\n",
       "      <td>1476</td>\n",
       "      <td>234</td>\n",
       "    </tr>\n",
       "    <tr>\n",
       "      <th>1</th>\n",
       "      <td>1.704665e+09</td>\n",
       "      <td>Is there a possibility of an afterlife?</td>\n",
       "      <td>Title</td>\n",
       "      <td>1</td>\n",
       "      <td>5</td>\n",
       "      <td>1</td>\n",
       "      <td>Is there a possibility of an afterlife? Title</td>\n",
       "      <td>45</td>\n",
       "      <td>8</td>\n",
       "    </tr>\n",
       "    <tr>\n",
       "      <th>2</th>\n",
       "      <td>1.704575e+09</td>\n",
       "      <td>The meaning of existence</td>\n",
       "      <td>\\n\\nI had a discussion with friend who is an ...</td>\n",
       "      <td>1</td>\n",
       "      <td>1683</td>\n",
       "      <td>307</td>\n",
       "      <td>The meaning of existence  \\n\\nI had a discussi...</td>\n",
       "      <td>1708</td>\n",
       "      <td>311</td>\n",
       "    </tr>\n",
       "    <tr>\n",
       "      <th>3</th>\n",
       "      <td>1.704481e+09</td>\n",
       "      <td>the mind and the notion of the self</td>\n",
       "      <td>Quite a while ago i came up with this Idea abo...</td>\n",
       "      <td>1</td>\n",
       "      <td>1510</td>\n",
       "      <td>238</td>\n",
       "      <td>the mind and the notion of the self Quite a wh...</td>\n",
       "      <td>1546</td>\n",
       "      <td>246</td>\n",
       "    </tr>\n",
       "    <tr>\n",
       "      <th>4</th>\n",
       "      <td>1.704472e+09</td>\n",
       "      <td>I made an ambient album based on my initial in...</td>\n",
       "      <td>NaN</td>\n",
       "      <td>1</td>\n",
       "      <td>3</td>\n",
       "      <td>1</td>\n",
       "      <td>NaN</td>\n",
       "      <td>3</td>\n",
       "      <td>1</td>\n",
       "    </tr>\n",
       "  </tbody>\n",
       "</table>\n",
       "</div>"
      ],
      "text/plain": [
       "           time                                              title  \\\n",
       "0  1.704666e+09                 Subjectivity is the Starting Point   \n",
       "1  1.704665e+09            Is there a possibility of an afterlife?   \n",
       "2  1.704575e+09                           The meaning of existence   \n",
       "3  1.704481e+09                the mind and the notion of the self   \n",
       "4  1.704472e+09  I made an ambient album based on my initial in...   \n",
       "\n",
       "                                                text  type  char_length  \\\n",
       "0  *The word subjectivism has two meanings, and o...     1         1441   \n",
       "1                                              Title     1            5   \n",
       "2   \\n\\nI had a discussion with friend who is an ...     1         1683   \n",
       "3  Quite a while ago i came up with this Idea abo...     1         1510   \n",
       "4                                                NaN     1            3   \n",
       "\n",
       "   word_length                                              total  total_char  \\\n",
       "0          229  Subjectivity is the Starting Point *The word s...        1476   \n",
       "1            1      Is there a possibility of an afterlife? Title          45   \n",
       "2          307  The meaning of existence  \\n\\nI had a discussi...        1708   \n",
       "3          238  the mind and the notion of the self Quite a wh...        1546   \n",
       "4            1                                                NaN           3   \n",
       "\n",
       "   total_word  \n",
       "0         234  \n",
       "1           8  \n",
       "2         311  \n",
       "3         246  \n",
       "4           1  "
      ]
     },
     "execution_count": 77,
     "metadata": {},
     "output_type": "execute_result"
    }
   ],
   "source": [
    "df.head()"
   ]
  },
  {
   "cell_type": "code",
   "execution_count": 78,
   "id": "331d743c-b2ce-414b-8af1-e42eb0cfa823",
   "metadata": {},
   "outputs": [
    {
     "name": "stdout",
     "output_type": "stream",
     "text": [
      "{'cvec__max_df': 1.0, 'cvec__max_features': 8000, 'cvec__min_df': 4, 'cvec__stop_words': None, 'lr__penalty': 'l2'}\n"
     ]
    }
   ],
   "source": [
    "# Now we will fit our first model, count vectorizer\n",
    "df['total'] = df['total'].fillna('')\n",
    "\n",
    "X = df['total']\n",
    "y = df['type']\n",
    "\n",
    "X_train, X_test, y_train, y_test = train_test_split(X, y, random_state=42, stratify = y)\n",
    "\n",
    "pipe = Pipeline([\n",
    "    ('cvec', CountVectorizer(ngram_range = (1, 2))),\n",
    "    ('lr', LogisticRegression(max_iter = 1000))\n",
    "])\n",
    "\n",
    "pipe_params = {\n",
    "    'cvec__max_features': [1000, 2000, 8000],\n",
    "    'cvec__stop_words': [None, 'english'],\n",
    "    'cvec__min_df': [2, 4],\n",
    "    'cvec__max_df': [1.0, 0.8, 0.5],\n",
    "    'lr__penalty': ['l2', None]\n",
    "}\n",
    "\n",
    "gs_1 = GridSearchCV(pipe, param_grid=pipe_params, cv = 5, n_jobs=-1)\n",
    "\n",
    "gs_1.fit(X_train, y_train)\n",
    "print(gs_1.best_params_)"
   ]
  },
  {
   "cell_type": "code",
   "execution_count": 79,
   "id": "fd9bea7c-0c0f-46cb-88ba-43f05ad0cc2e",
   "metadata": {},
   "outputs": [
    {
     "name": "stdout",
     "output_type": "stream",
     "text": [
      "0.7718324078748107\n"
     ]
    },
    {
     "data": {
      "image/png": "[encoded data removed]",
      "text/plain": [
       "<Figure size 432x288 with 2 Axes>"
      ]
     },
     "metadata": {},
     "output_type": "display_data"
    }
   ],
   "source": [
    "# A confusion matrix to visualise the performance\n",
    "# Accuracy is 77.18% which is twice as good as baseline\n",
    "\n",
    "pred_1 = gs_1.predict(X_test)\n",
    "cm_1 = confusion_matrix(y_test, pred_1)\n",
    "accuracy_1 = accuracy_score(y_test, pred_1)\n",
    "print(accuracy_1)\n",
    "\n",
    "disp = ConfusionMatrixDisplay(confusion_matrix=cm_1, display_labels=gs_1.classes_)\n",
    "disp.plot(cmap='Blues', values_format='d')\n",
    "plt.title(f'Confusion Matrix Count Vectorizer\\nAccuracy: {accuracy_1:.4f}')\n",
    "plt.savefig('../images/CMcvec.png')"
   ]
  },
  {
   "cell_type": "code",
   "execution_count": 80,
   "id": "101d2e97-8c11-43fa-9457-c4eac2efe07c",
   "metadata": {},
   "outputs": [
    {
     "name": "stdout",
     "output_type": "stream",
     "text": [
      "             Feature  Coefficient\n",
      "4387        nihilist    -2.511796\n",
      "2158  existentialism     2.432151\n",
      "4373        nihilism    -2.391037\n",
      "2151     existential     1.855653\n",
      "4393       nihilists    -1.812911\n",
      "2161  existentialist     1.705587\n",
      "4392      nihilistic    -1.675366\n",
      "1163           camus     1.123289\n",
      "5545          sartre     1.100492\n",
      "7000          to see     1.006619\n",
      "1660      depression    -1.004199\n",
      "6413        the more     0.823003\n",
      "1154          called    -0.821431\n",
      "1596              de     0.820829\n",
      "4109        memories     0.809679\n"
     ]
    }
   ],
   "source": [
    "# Check the top 10 most significant words in the model\n",
    "best_model = gs_1.best_estimator_\n",
    "\n",
    "lr_model = best_model.named_steps['lr']\n",
    "cvec_model = best_model.named_steps['cvec']\n",
    "\n",
    "feature_names = cvec_model.get_feature_names_out()\n",
    "\n",
    "coefficients_df = pd.DataFrame({'Feature': feature_names, 'Coefficient': lr_model.coef_[0]})\n",
    "\n",
    "significant_words = coefficients_df.reindex(coefficients_df['Coefficient'].abs().sort_values(ascending=False).index)\n",
    "print(significant_words.head(15))"
   ]
  },
  {
   "cell_type": "markdown",
   "id": "44aaf544-88da-4856-9d8e-42ebbadb0486",
   "metadata": {},
   "source": [
    "___\n",
    "### TF-IDF Vectorizer Model"
   ]
  },
  {
   "cell_type": "code",
   "execution_count": 81,
   "id": "974dc006-6b46-461a-a016-0eb9cd2f719e",
   "metadata": {},
   "outputs": [
    {
     "name": "stdout",
     "output_type": "stream",
     "text": [
      "{'lr__penalty': None, 'tfidf__max_df': 0.5, 'tfidf__max_features': 8000, 'tfidf__min_df': 4, 'tfidf__stop_words': None}\n"
     ]
    }
   ],
   "source": [
    "# Next we will try TF-IDF vectorizer which considers more than just word frequency\n",
    "\n",
    "X_train, X_test, y_train, y_test = train_test_split(X, y, random_state=42, stratify=y)\n",
    "\n",
    "pipe = Pipeline([\n",
    "    ('tfidf', TfidfVectorizer(ngram_range=(1, 2))),\n",
    "    ('lr', LogisticRegression(max_iter=1000))\n",
    "])\n",
    "\n",
    "pipe_params = {\n",
    "    'tfidf__max_features': [1000, 2000, 8000],\n",
    "    'tfidf__stop_words': [None, 'english'],\n",
    "    'tfidf__min_df': [2, 4],\n",
    "    'tfidf__max_df': [1.0, 0.8, 0.5],\n",
    "    'lr__penalty': ['l2', None]\n",
    "}\n",
    "\n",
    "gs_2 = GridSearchCV(pipe, param_grid=pipe_params, cv = 5, n_jobs=-1)\n",
    "gs_2.fit(X_train, y_train)\n",
    "\n",
    "print(gs_2.best_params_)"
   ]
  },
  {
   "cell_type": "code",
   "execution_count": 82,
   "id": "1f36d43b-524c-40ae-81a8-9288320e56cd",
   "metadata": {},
   "outputs": [
    {
     "name": "stdout",
     "output_type": "stream",
     "text": [
      "0.7783947501261989\n"
     ]
    },
    {
     "data": {
      "image/png": "[encoded data removed]",
      "text/plain": [
       "<Figure size 432x288 with 2 Axes>"
      ]
     },
     "metadata": {},
     "output_type": "display_data"
    }
   ],
   "source": [
    "# Make confusion matrix to visualize model performance\n",
    "pred_2 = gs_2.predict(X_test)\n",
    "cm_2 = confusion_matrix(y_test, pred_2)\n",
    "accuracy_2 = accuracy_score(y_test, pred_2)\n",
    "print(accuracy_2)\n",
    "\n",
    "disp = ConfusionMatrixDisplay(confusion_matrix=cm_2, display_labels=gs_2.classes_)\n",
    "disp.plot(cmap='Blues', values_format='d')\n",
    "plt.title(f'Confusion Matrix TF-IDF Vectorizer\\nAccuracy: {accuracy_2:.4f}')\n",
    "plt.savefig('../images/CMTFIDF.png')\n",
    "\n",
    "# Test accuracy is 77.84% which is basically the same as count vectorizer"
   ]
  },
  {
   "cell_type": "code",
   "execution_count": 83,
   "id": "9d7c4e0c-b6c7-4e9d-92d3-ea76441df585",
   "metadata": {},
   "outputs": [
    {
     "name": "stdout",
     "output_type": "stream",
     "text": [
      "                Feature    Coefficient\n",
      "2158     existentialism  122374.285111\n",
      "4387           nihilist -120958.235668\n",
      "4373           nihilism -120761.849736\n",
      "4393          nihilists  -81645.251891\n",
      "2151        existential   81522.436680\n",
      "2161     existentialist   68104.655087\n",
      "4392         nihilistic  -63832.460486\n",
      "5545             sartre   45926.551594\n",
      "1163              camus   41178.123474\n",
      "2160  existentialism is   39278.061317\n",
      "4380        nihilism is  -34385.300461\n",
      "1228               care  -33446.228811\n",
      "7876            you are  -33383.766665\n",
      "1660         depression  -32216.560384\n",
      "2298              feels   31677.363707\n"
     ]
    }
   ],
   "source": [
    "# Show top words from this model \n",
    "feature_names = gs_2.best_estimator_.named_steps['tfidf'].get_feature_names_out()\n",
    "coefficients = gs_2.best_estimator_.named_steps['lr'].coef_[0]\n",
    "\n",
    "coef_df = pd.DataFrame({'Feature': feature_names, 'Coefficient': coefficients})\n",
    "\n",
    "top_words = coef_df.reindex(coef_df['Coefficient'].abs().sort_values(ascending=False).index).head(15)\n",
    "\n",
    "print(top_words)"
   ]
  },
  {
   "cell_type": "markdown",
   "id": "2c76e0c5-1c7f-4e1a-a877-caa22cd35395",
   "metadata": {},
   "source": [
    "___\n",
    "### Multinomial Naive Bayes"
   ]
  },
  {
   "cell_type": "code",
   "execution_count": 84,
   "id": "811270cc-47e2-4bb6-b810-5a331ecc1211",
   "metadata": {},
   "outputs": [
    {
     "name": "stdout",
     "output_type": "stream",
     "text": [
      "0.7314487632508834\n"
     ]
    },
    {
     "data": {
      "image/png": "[encoded data removed]",
      "text/plain": [
       "<Figure size 432x288 with 2 Axes>"
      ]
     },
     "metadata": {},
     "output_type": "display_data"
    }
   ],
   "source": [
    "X = df['total']\n",
    "y = df['type']\n",
    "\n",
    "X_train, X_test, y_train, y_test = train_test_split(X, y, random_state=42, stratify=y)\n",
    "\n",
    "pipe = Pipeline([\n",
    "    ('count_vectorizer', CountVectorizer(ngram_range=(1, 2))),\n",
    "    ('Bayes', MultinomialNB())\n",
    "])\n",
    "\n",
    "pipe_params = {\n",
    "    'count_vectorizer__max_features': [1000, 2000, 8000],\n",
    "    'count_vectorizer__stop_words': [None, 'english'],\n",
    "    'count_vectorizer__min_df': [2, 4],\n",
    "    'count_vectorizer__max_df': [1.0, 0.8, 0.5],\n",
    "    'Bayes__alpha': [1.0, 0.5, 0.1],  \n",
    "}\n",
    "\n",
    "gs_3 = GridSearchCV(pipe, param_grid=pipe_params, cv=5, n_jobs=-1)\n",
    "gs_3.fit(X_train, y_train)\n",
    "\n",
    "# Make confusion matrix to visualize model performance\n",
    "pred_3 = gs_3.predict(X_test)\n",
    "cm_3 = confusion_matrix(y_test, pred_3)\n",
    "accuracy_3 = accuracy_score(y_test, pred_3)\n",
    "print(accuracy_3)\n",
    "\n",
    "disp = ConfusionMatrixDisplay(confusion_matrix=cm_3, display_labels=gs_3.classes_)\n",
    "disp.plot(cmap='Blues')\n",
    "plt.title(f'Confusion Matrix MNB\\nAccuracy: {accuracy_3:.4f}')\n",
    "plt.savefig('../images/CMMNB.png')\n",
    "\n",
    "\n",
    "# Test accuracy is 73.14% which is the lowest accuracy so far"
   ]
  },
  {
   "cell_type": "markdown",
   "id": "cb16519f-ffc6-4946-bd85-2dfa228594fc",
   "metadata": {},
   "source": [
    "___ \n",
    "### Model Selection"
   ]
  },
  {
   "cell_type": "code",
   "execution_count": 85,
   "id": "6a070ded-89b3-4f8d-8a39-6d9dca50cd21",
   "metadata": {},
   "outputs": [],
   "source": [
    "# The TFIDF vectorizer has the highest accuracy but we should look at the classification report for each model to help decide \n",
    "# The MNB model was pretty poor so we will just consider the report for count vectorizer and TFIDF"
   ]
  },
  {
   "cell_type": "code",
   "execution_count": 86,
   "id": "94b5c528-99b8-43c6-88f6-f16b64fc6900",
   "metadata": {},
   "outputs": [
    {
     "name": "stdout",
     "output_type": "stream",
     "text": [
      "              precision    recall  f1-score   support\n",
      "\n",
      "           0       0.70      0.94      0.81       994\n",
      "           1       0.91      0.60      0.72       987\n",
      "\n",
      "    accuracy                           0.77      1981\n",
      "   macro avg       0.81      0.77      0.76      1981\n",
      "weighted avg       0.81      0.77      0.76      1981\n",
      "\n"
     ]
    }
   ],
   "source": [
    "y_pred_1 = gs_1.predict(X_test)\n",
    "print(classification_report(y_test, y_pred_1))"
   ]
  },
  {
   "cell_type": "code",
   "execution_count": 87,
   "id": "c7838926-2324-4a65-839f-c3ae74040a69",
   "metadata": {},
   "outputs": [
    {
     "name": "stdout",
     "output_type": "stream",
     "text": [
      "              precision    recall  f1-score   support\n",
      "\n",
      "           0       0.71      0.94      0.81       994\n",
      "           1       0.91      0.61      0.73       987\n",
      "\n",
      "    accuracy                           0.78      1981\n",
      "   macro avg       0.81      0.78      0.77      1981\n",
      "weighted avg       0.81      0.78      0.77      1981\n",
      "\n"
     ]
    }
   ],
   "source": [
    "y_pred_2 = gs_2.predict(X_test)\n",
    "print(classification_report(y_test, y_pred_2))"
   ]
  },
  {
   "cell_type": "code",
   "execution_count": 88,
   "id": "0c0a1e92-b00c-4e79-9471-c3fb2eea3c08",
   "metadata": {},
   "outputs": [],
   "source": [
    "# We see that TFIDF did the best not just in terms of accuracy but also recall\n",
    "# Precision was about the same\n",
    "# We will move forward with TFIDF model then"
   ]
  },
  {
   "cell_type": "markdown",
   "id": "e3687b13-08f0-4e87-98d1-facc1d9be5c3",
   "metadata": {},
   "source": [
    "___\n",
    "### Add Predictors"
   ]
  },
  {
   "cell_type": "code",
   "execution_count": 89,
   "id": "824d64eb-8878-4224-8bc9-302850d7853e",
   "metadata": {},
   "outputs": [
    {
     "data": {
      "text/plain": [
       "type\n",
       "0     75.917254\n",
       "1    128.497974\n",
       "Name: total_word, dtype: float64"
      ]
     },
     "execution_count": 89,
     "metadata": {},
     "output_type": "execute_result"
    }
   ],
   "source": [
    "# Before we add predictors, we will look at the average word count for each reddit to see if there is a dfference\n",
    "# We see a big dfference implying this could be a great predictor \n",
    "df.groupby('type')['total_word'].mean()"
   ]
  },
  {
   "cell_type": "code",
   "execution_count": 90,
   "id": "c2bf4882-c735-408b-a1bb-59f1c85d68ee",
   "metadata": {},
   "outputs": [
    {
     "data": {
      "text/plain": [
       "type\n",
       "0    0.027291\n",
       "1    0.047883\n",
       "Name: sentiment, dtype: float64"
      ]
     },
     "execution_count": 90,
     "metadata": {},
     "output_type": "execute_result"
    }
   ],
   "source": [
    "# Now the sentiment analysis score\n",
    "def calculate_sentiment(text):\n",
    "    analysis = TextBlob(text)\n",
    "    return analysis.sentiment.polarity\n",
    "\n",
    "df['sentiment'] = df['total'].apply(calculate_sentiment)\n",
    "\n",
    "df.groupby('type')['sentiment'].mean()\n",
    "\n",
    "# Both are pretty close to neutral "
   ]
  },
  {
   "cell_type": "code",
   "execution_count": 91,
   "id": "23adb3ba-4784-405e-9535-f462410c4e75",
   "metadata": {},
   "outputs": [
    {
     "name": "stderr",
     "output_type": "stream",
     "text": [
      "/Users/tannerzuleeg/opt/anaconda3/lib/python3.8/site-packages/pandas/core/series.py:4463: SettingWithCopyWarning: \n",
      "A value is trying to be set on a copy of a slice from a DataFrame\n",
      "\n",
      "See the caveats in the documentation: https://pandas.pydata.org/pandas-docs/stable/user_guide/indexing.html#returning-a-view-versus-a-copy\n",
      "  return super().fillna(\n"
     ]
    }
   ],
   "source": [
    "# Out of our three models, we have chosen TFIDF with best params\n",
    "# Now we will make a new dataframe with TFIDF transforming the text column along with two more columns; one for text word count\n",
    "# and one for text sentiment analysis score\n",
    "X = df[['text', 'total_word', 'sentiment']]\n",
    "y = df['type']\n",
    "\n",
    "# Handling missing values in the 'text' column by filling NaNs with an empty string\n",
    "X['text'].fillna('', inplace=True)\n",
    "\n",
    "X_train, X_test, y_train, y_test = train_test_split(X, y, random_state=42, stratify=y)\n",
    "\n",
    "# First, we transform text using TFIDF\n",
    "vectorizer = TfidfVectorizer(max_df=4, max_features=8000, min_df=1, stop_words=None)\n",
    "\n",
    "X_tvec = vectorizer.fit_transform(X_train['text'])\n",
    "\n",
    "feature_names = vectorizer.get_feature_names_out()\n",
    "dfv = pd.DataFrame(X_tvec.toarray(), columns=feature_names)\n",
    "\n",
    "# Now we add the text word count column\n",
    "scaler = StandardScaler()\n",
    "dfv['word_count'] = scaler.fit_transform(X_train[['total_word']])\n",
    "\n",
    "# Next, the sentiment analysis column\n",
    "dfv['sentiment'] = X_train['text'].apply(calculate_sentiment)"
   ]
  },
  {
   "cell_type": "code",
   "execution_count": 92,
   "id": "f022c403-021b-405a-87c0-041c781a81c0",
   "metadata": {},
   "outputs": [],
   "source": [
    "# We see some NaNs so we make them zero\n",
    "dfv['sentiment'].fillna(0, inplace=True)"
   ]
  },
  {
   "cell_type": "code",
   "execution_count": 93,
   "id": "f288e890-705e-43f6-a4c2-dd8ebfef2dfe",
   "metadata": {},
   "outputs": [
    {
     "data": {
      "text/html": [
       "<style>#sk-container-id-1 {color: black;}#sk-container-id-1 pre{padding: 0;}#sk-container-id-1 div.sk-toggleable {background-color: white;}#sk-container-id-1 label.sk-toggleable__label {cursor: pointer;display: block;width: 100%;margin-bottom: 0;padding: 0.3em;box-sizing: border-box;text-align: center;}#sk-container-id-1 label.sk-toggleable__label-arrow:before {content: \"▸\";float: left;margin-right: 0.25em;color: #696969;}#sk-container-id-1 label.sk-toggleable__label-arrow:hover:before {color: black;}#sk-container-id-1 div.sk-estimator:hover label.sk-toggleable__label-arrow:before {color: black;}#sk-container-id-1 div.sk-toggleable__content {max-height: 0;max-width: 0;overflow: hidden;text-align: left;background-color: #f0f8ff;}#sk-container-id-1 div.sk-toggleable__content pre {margin: 0.2em;color: black;border-radius: 0.25em;background-color: #f0f8ff;}#sk-container-id-1 input.sk-toggleable__control:checked~div.sk-toggleable__content {max-height: 200px;max-width: 100%;overflow: auto;}#sk-container-id-1 input.sk-toggleable__control:checked~label.sk-toggleable__label-arrow:before {content: \"▾\";}#sk-container-id-1 div.sk-estimator input.sk-toggleable__control:checked~label.sk-toggleable__label {background-color: #d4ebff;}#sk-container-id-1 div.sk-label input.sk-toggleable__control:checked~label.sk-toggleable__label {background-color: #d4ebff;}#sk-container-id-1 input.sk-hidden--visually {border: 0;clip: rect(1px 1px 1px 1px);clip: rect(1px, 1px, 1px, 1px);height: 1px;margin: -1px;overflow: hidden;padding: 0;position: absolute;width: 1px;}#sk-container-id-1 div.sk-estimator {font-family: monospace;background-color: #f0f8ff;border: 1px dotted black;border-radius: 0.25em;box-sizing: border-box;margin-bottom: 0.5em;}#sk-container-id-1 div.sk-estimator:hover {background-color: #d4ebff;}#sk-container-id-1 div.sk-parallel-item::after {content: \"\";width: 100%;border-bottom: 1px solid gray;flex-grow: 1;}#sk-container-id-1 div.sk-label:hover label.sk-toggleable__label {background-color: #d4ebff;}#sk-container-id-1 div.sk-serial::before {content: \"\";position: absolute;border-left: 1px solid gray;box-sizing: border-box;top: 0;bottom: 0;left: 50%;z-index: 0;}#sk-container-id-1 div.sk-serial {display: flex;flex-direction: column;align-items: center;background-color: white;padding-right: 0.2em;padding-left: 0.2em;position: relative;}#sk-container-id-1 div.sk-item {position: relative;z-index: 1;}#sk-container-id-1 div.sk-parallel {display: flex;align-items: stretch;justify-content: center;background-color: white;position: relative;}#sk-container-id-1 div.sk-item::before, #sk-container-id-1 div.sk-parallel-item::before {content: \"\";position: absolute;border-left: 1px solid gray;box-sizing: border-box;top: 0;bottom: 0;left: 50%;z-index: -1;}#sk-container-id-1 div.sk-parallel-item {display: flex;flex-direction: column;z-index: 1;position: relative;background-color: white;}#sk-container-id-1 div.sk-parallel-item:first-child::after {align-self: flex-end;width: 50%;}#sk-container-id-1 div.sk-parallel-item:last-child::after {align-self: flex-start;width: 50%;}#sk-container-id-1 div.sk-parallel-item:only-child::after {width: 0;}#sk-container-id-1 div.sk-dashed-wrapped {border: 1px dashed gray;margin: 0 0.4em 0.5em 0.4em;box-sizing: border-box;padding-bottom: 0.4em;background-color: white;}#sk-container-id-1 div.sk-label label {font-family: monospace;font-weight: bold;display: inline-block;line-height: 1.2em;}#sk-container-id-1 div.sk-label-container {text-align: center;}#sk-container-id-1 div.sk-container {/* jupyter's `normalize.less` sets `[hidden] { display: none; }` but bootstrap.min.css set `[hidden] { display: none !important; }` so we also need the `!important` here to be able to override the default hidden behavior on the sphinx rendered scikit-learn.org. See: https://github.com/scikit-learn/scikit-learn/issues/21755 */display: inline-block !important;position: relative;}#sk-container-id-1 div.sk-text-repr-fallback {display: none;}</style><div id=\"sk-container-id-1\" class=\"sk-top-container\"><div class=\"sk-text-repr-fallback\"><pre>LogisticRegression(max_iter=1000, penalty=None)</pre><b>In a Jupyter environment, please rerun this cell to show the HTML representation or trust the notebook. <br />On GitHub, the HTML representation is unable to render, please try loading this page with nbviewer.org.</b></div><div class=\"sk-container\" hidden><div class=\"sk-item\"><div class=\"sk-estimator sk-toggleable\"><input class=\"sk-toggleable__control sk-hidden--visually\" id=\"sk-estimator-id-1\" type=\"checkbox\" checked><label for=\"sk-estimator-id-1\" class=\"sk-toggleable__label sk-toggleable__label-arrow\">LogisticRegression</label><div class=\"sk-toggleable__content\"><pre>LogisticRegression(max_iter=1000, penalty=None)</pre></div></div></div></div></div>"
      ],
      "text/plain": [
       "LogisticRegression(max_iter=1000, penalty=None)"
      ]
     },
     "execution_count": 93,
     "metadata": {},
     "output_type": "execute_result"
    }
   ],
   "source": [
    "lgr = LogisticRegression(penalty = None, max_iter = 1000)\n",
    "lgr.fit(dfv, y_train)"
   ]
  },
  {
   "cell_type": "code",
   "execution_count": 94,
   "id": "0e0a4489-7912-45d3-aa33-ef5fa38e9225",
   "metadata": {},
   "outputs": [
    {
     "data": {
      "text/html": [
       "<div>\n",
       "<style scoped>\n",
       "    .dataframe tbody tr th:only-of-type {\n",
       "        vertical-align: middle;\n",
       "    }\n",
       "\n",
       "    .dataframe tbody tr th {\n",
       "        vertical-align: top;\n",
       "    }\n",
       "\n",
       "    .dataframe thead th {\n",
       "        text-align: right;\n",
       "    }\n",
       "</style>\n",
       "<table border=\"1\" class=\"dataframe\">\n",
       "  <thead>\n",
       "    <tr style=\"text-align: right;\">\n",
       "      <th></th>\n",
       "      <th>time</th>\n",
       "      <th>title</th>\n",
       "      <th>text</th>\n",
       "      <th>type</th>\n",
       "      <th>char_length</th>\n",
       "      <th>word_length</th>\n",
       "      <th>total</th>\n",
       "      <th>total_char</th>\n",
       "      <th>total_word</th>\n",
       "      <th>sentiment</th>\n",
       "    </tr>\n",
       "  </thead>\n",
       "  <tbody>\n",
       "    <tr>\n",
       "      <th>0</th>\n",
       "      <td>1.704666e+09</td>\n",
       "      <td>Subjectivity is the Starting Point</td>\n",
       "      <td>*The word subjectivism has two meanings, and o...</td>\n",
       "      <td>1</td>\n",
       "      <td>1441</td>\n",
       "      <td>229</td>\n",
       "      <td>Subjectivity is the Starting Point *The word s...</td>\n",
       "      <td>1476</td>\n",
       "      <td>234</td>\n",
       "      <td>-0.038952</td>\n",
       "    </tr>\n",
       "    <tr>\n",
       "      <th>1</th>\n",
       "      <td>1.704665e+09</td>\n",
       "      <td>Is there a possibility of an afterlife?</td>\n",
       "      <td>Title</td>\n",
       "      <td>1</td>\n",
       "      <td>5</td>\n",
       "      <td>1</td>\n",
       "      <td>Is there a possibility of an afterlife? Title</td>\n",
       "      <td>45</td>\n",
       "      <td>8</td>\n",
       "      <td>0.000000</td>\n",
       "    </tr>\n",
       "    <tr>\n",
       "      <th>2</th>\n",
       "      <td>1.704575e+09</td>\n",
       "      <td>The meaning of existence</td>\n",
       "      <td>\\n\\nI had a discussion with friend who is an ...</td>\n",
       "      <td>1</td>\n",
       "      <td>1683</td>\n",
       "      <td>307</td>\n",
       "      <td>The meaning of existence  \\n\\nI had a discussi...</td>\n",
       "      <td>1708</td>\n",
       "      <td>311</td>\n",
       "      <td>-0.011384</td>\n",
       "    </tr>\n",
       "    <tr>\n",
       "      <th>3</th>\n",
       "      <td>1.704481e+09</td>\n",
       "      <td>the mind and the notion of the self</td>\n",
       "      <td>Quite a while ago i came up with this Idea abo...</td>\n",
       "      <td>1</td>\n",
       "      <td>1510</td>\n",
       "      <td>238</td>\n",
       "      <td>the mind and the notion of the self Quite a wh...</td>\n",
       "      <td>1546</td>\n",
       "      <td>246</td>\n",
       "      <td>0.021250</td>\n",
       "    </tr>\n",
       "    <tr>\n",
       "      <th>4</th>\n",
       "      <td>1.704472e+09</td>\n",
       "      <td>I made an ambient album based on my initial in...</td>\n",
       "      <td>NaN</td>\n",
       "      <td>1</td>\n",
       "      <td>3</td>\n",
       "      <td>1</td>\n",
       "      <td></td>\n",
       "      <td>3</td>\n",
       "      <td>1</td>\n",
       "      <td>0.000000</td>\n",
       "    </tr>\n",
       "  </tbody>\n",
       "</table>\n",
       "</div>"
      ],
      "text/plain": [
       "           time                                              title  \\\n",
       "0  1.704666e+09                 Subjectivity is the Starting Point   \n",
       "1  1.704665e+09            Is there a possibility of an afterlife?   \n",
       "2  1.704575e+09                           The meaning of existence   \n",
       "3  1.704481e+09                the mind and the notion of the self   \n",
       "4  1.704472e+09  I made an ambient album based on my initial in...   \n",
       "\n",
       "                                                text  type  char_length  \\\n",
       "0  *The word subjectivism has two meanings, and o...     1         1441   \n",
       "1                                              Title     1            5   \n",
       "2   \\n\\nI had a discussion with friend who is an ...     1         1683   \n",
       "3  Quite a while ago i came up with this Idea abo...     1         1510   \n",
       "4                                                NaN     1            3   \n",
       "\n",
       "   word_length                                              total  total_char  \\\n",
       "0          229  Subjectivity is the Starting Point *The word s...        1476   \n",
       "1            1      Is there a possibility of an afterlife? Title          45   \n",
       "2          307  The meaning of existence  \\n\\nI had a discussi...        1708   \n",
       "3          238  the mind and the notion of the self Quite a wh...        1546   \n",
       "4            1                                                              3   \n",
       "\n",
       "   total_word  sentiment  \n",
       "0         234  -0.038952  \n",
       "1           8   0.000000  \n",
       "2         311  -0.011384  \n",
       "3         246   0.021250  \n",
       "4           1   0.000000  "
      ]
     },
     "execution_count": 94,
     "metadata": {},
     "output_type": "execute_result"
    }
   ],
   "source": [
    "df.head()"
   ]
  },
  {
   "cell_type": "code",
   "execution_count": 95,
   "id": "af52b6ac-1ca3-459a-86ba-15d448e96826",
   "metadata": {},
   "outputs": [],
   "source": [
    "X_ttvec = vectorizer.transform(X_test['text'])\n",
    "\n",
    "feature_names = vectorizer.get_feature_names_out() \n",
    "dfv_test = pd.DataFrame(X_ttvec.toarray(), columns=feature_names)\n",
    "\n",
    "# Now we add the text word count column\n",
    "dfv_test['word_count'] = scaler.transform(X_test[['total_word']])\n",
    "\n",
    "dfv_test['sentiment'] = df['total'].apply(calculate_sentiment)"
   ]
  },
  {
   "cell_type": "code",
   "execution_count": 96,
   "id": "a41789c8-8112-4055-a3cc-6b5f7085f4dd",
   "metadata": {},
   "outputs": [
    {
     "name": "stdout",
     "output_type": "stream",
     "text": [
      "0.663301362948006\n"
     ]
    }
   ],
   "source": [
    "# Accuracy\n",
    "y_pred = lgr.predict(dfv_test)\n",
    "accuracy = accuracy_score(y_test, y_pred)\n",
    "print(accuracy)\n",
    "\n",
    "# We see that the accuracy went down by adding these predictors"
   ]
  }
 ],
 "metadata": {
  "kernelspec": {
   "display_name": "Python 3",
   "language": "python",
   "name": "python3"
  },
  "language_info": {
   "codemirror_mode": {
    "name": "ipython",
    "version": 3
   },
   "file_extension": ".py",
   "mimetype": "text/x-python",
   "name": "python",
   "nbconvert_exporter": "python",
   "pygments_lexer": "ipython3",
   "version": "3.8.8"
  }
 },
 "nbformat": 4,
 "nbformat_minor": 5
}
